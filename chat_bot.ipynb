{
  "nbformat": 4,
  "nbformat_minor": 0,
  "metadata": {
    "colab": {
      "provenance": [],
      "authorship_tag": "ABX9TyNmswuQ+EQewXo0tKaNYV6t",
      "include_colab_link": true
    },
    "kernelspec": {
      "name": "python3",
      "display_name": "Python 3"
    },
    "language_info": {
      "name": "python"
    }
  },
  "cells": [
    {
      "cell_type": "markdown",
      "metadata": {
        "id": "view-in-github",
        "colab_type": "text"
      },
      "source": [
        "<a href=\"https://colab.research.google.com/github/Paulinho19/chat-bot/blob/main/chat_bot.ipynb\" target=\"_parent\"><img src=\"https://colab.research.google.com/assets/colab-badge.svg\" alt=\"Open In Colab\"/></a>"
      ]
    },
    {
      "cell_type": "markdown",
      "source": [
        "Instalação do SDK do Google"
      ],
      "metadata": {
        "id": "cM0gQtMoaolm"
      }
    },
    {
      "cell_type": "code",
      "execution_count": 40,
      "metadata": {
        "id": "POnZwHrPWTiD"
      },
      "outputs": [],
      "source": [
        "!pip install -q -U google-generativeai"
      ]
    },
    {
      "cell_type": "markdown",
      "source": [
        "Importações necessárias"
      ],
      "metadata": {
        "id": "7tBmRtZQbDPn"
      }
    },
    {
      "cell_type": "code",
      "source": [
        "import google.generativeai as genai\n",
        "from google.colab import userdata\n",
        "\n",
        "key = userdata.get(\"CHAVE_API\")\n",
        "\n",
        "genai.configure(api_key=key)"
      ],
      "metadata": {
        "id": "LJrOUIrybLQ2"
      },
      "execution_count": 41,
      "outputs": []
    },
    {
      "cell_type": "markdown",
      "source": [
        "Configurações de trabalho do modelo"
      ],
      "metadata": {
        "id": "DXUeNv3bewZ7"
      }
    },
    {
      "cell_type": "code",
      "source": [
        "parametros_modelo = {\n",
        "    \"candidate_count\": 1, #número de geração de respostas\n",
        "    \"temperature\": 0.55,\n",
        "}"
      ],
      "metadata": {
        "id": "LGDaokgndebH"
      },
      "execution_count": 42,
      "outputs": []
    },
    {
      "cell_type": "markdown",
      "source": [
        "Configurações de filtros de segurança"
      ],
      "metadata": {
        "id": "REkAyp6hfCDM"
      }
    },
    {
      "cell_type": "code",
      "source": [
        "parametros_conteudo = {\n",
        "    \"HARASSMENT\": \"BLOCK_NONE\",\n",
        "    \"HATE\": \"BLOCK_NONE\",\n",
        "    \"SEXUAL\": \"BLOCK_NONE\",\n",
        "    \"DANGEROUS\": \"BLOCK_NONE\"\n",
        "}"
      ],
      "metadata": {
        "id": "dxy-syoHeZTi"
      },
      "execution_count": 43,
      "outputs": []
    },
    {
      "cell_type": "markdown",
      "source": [
        "Iniciando modelo"
      ],
      "metadata": {
        "id": "xxxC1t78hjAV"
      }
    },
    {
      "cell_type": "code",
      "source": [
        "modelo = genai.GenerativeModel(model_name=\"gemini-1.0-pro\", generation_config=parametros_modelo, safety_settings=parametros_conteudo)"
      ],
      "metadata": {
        "id": "saQn8ErdhlQM"
      },
      "execution_count": 44,
      "outputs": []
    },
    {
      "cell_type": "code",
      "source": [
        "chat_bot = modelo.start_chat(history=[])"
      ],
      "metadata": {
        "id": "F9jYj4nhlPSR"
      },
      "execution_count": 45,
      "outputs": []
    },
    {
      "cell_type": "markdown",
      "source": [
        "Algoritmo de input e output"
      ],
      "metadata": {
        "id": "ppL7knaUx-2q"
      }
    },
    {
      "cell_type": "code",
      "source": [
        "texto_entrada = input(\"Digite sua solicitação: \")\n",
        "\n",
        "while texto_entrada != \"fim\":\n",
        "  print()\n",
        "  print(\"-\"*150)\n",
        "  saida = chat_bot.send_message(texto_entrada)\n",
        "  print(saida.text)\n",
        "  print(\"-\"*150)\n",
        "  print()\n",
        "  texto_entrada = input('Digite mais uma solicitação ou \"fim\" para encerrar o chatbot 😀: ').lower().strip()\n",
        "\n",
        "print()\n",
        "print(\"*\"*150)\n",
        "print(\" \"*50,\"Obrigado por utilizar o chatbot! Aproveite e siga meu criador 😛\".upper())\n",
        "print(\"Github --> Paulinho19\")\n",
        "\n",
        "\n"
      ],
      "metadata": {
        "colab": {
          "base_uri": "https://localhost:8080/",
          "height": 208
        },
        "id": "Q3CazNsklz_y",
        "outputId": "431f9a10-6b7a-4033-f9e7-723647a4a89a"
      },
      "execution_count": 46,
      "outputs": [
        {
          "output_type": "stream",
          "name": "stdout",
          "text": [
            "Digite sua solicitação: Qual seu nome?\n",
            "\n",
            "------------------------------------------------------------------------------------------------------------------------------------------------------\n",
            "Sou um modelo de linguagem de IA multimodal desenvolvido pelo Google. Não tenho nome, pois não sou uma pessoa.\n",
            "------------------------------------------------------------------------------------------------------------------------------------------------------\n",
            "\n",
            "Digite mais uma solicitação ou \"fim\" para encerrar o chatbot 😀:   fim\n",
            "\n",
            "******************************************************************************************************************************************************\n",
            "                                                   OBRIGADO POR UTILIZAR O CHATBOT! APROVEITE E SIGA MEU CRIADOR 😛\n",
            "Github --> Paulinho19\n"
          ]
        }
      ]
    }
  ]
}